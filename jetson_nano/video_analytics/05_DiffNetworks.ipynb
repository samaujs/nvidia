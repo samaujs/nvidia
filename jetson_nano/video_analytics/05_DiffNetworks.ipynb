{
 "cells": [
  {
   "cell_type": "markdown",
   "metadata": {},
   "source": [
    "<center><img src=\"images/DLI Header.png\" alt=\"Header\" width=\"400\"></center>"
   ]
  },
  {
   "cell_type": "markdown",
   "metadata": {},
   "source": [
    "# 5.0 Using Different Neural Networks (Optional)\n",
    "### INTERNET CONNECTION TO JETSON NANO REQUIRED"
   ]
  },
  {
   "cell_type": "markdown",
   "metadata": {},
   "source": [
    "In the examples presented so far, the object detector was a ResNet10 network trained to detect four different objects (Vehicle, Bicycle, Person, Roadsign). In many cases, you may wish to use a different network for other tasks. DeepStream natively supports other networks including YOLO, SSD, and Faster-RCNN. For experienced developers, additional networks can be integrated with DeepStream through TensorRT.  \n",
    "\n",
    "To use these networks, there is some setup that requires internet access.  The easiest way to accomplish this is via the Ethernet port on the Jetson Nano. In this notebook, you'll learn how to incorporate a YOLO network into a DeepStream app."
   ]
  },
  {
   "cell_type": "markdown",
   "metadata": {},
   "source": [
    "<img src=\"images/05_example.png\" alt=\"YOLO network pipeline\">"
   ]
  },
  {
   "cell_type": "markdown",
   "metadata": {},
   "source": [
    "5.1 **[YOLO](#05_yolo)**<br>\n",
    "&nbsp; &nbsp; &nbsp; 5.1.1 [Set Up YOLO with DeepStream SDK](#05_yolos_setup)<br>\n",
    "&nbsp; &nbsp; &nbsp; 5.1.2 [Exercise: Build and Run a YOLO Application](#05_ex_yolo)<br>\n",
    "&nbsp; &nbsp; &nbsp; 5.1.3 [Exercise: Annotate Your Own Video with YOLO](#05_ex_your_video)<br>\n",
    "5.2 **[Faster-RCNN](#05_faster_rcnn)**<br>\n",
    "5.3 **[SSD](#05_ssd)**<br>"
   ]
  },
  {
   "cell_type": "markdown",
   "metadata": {},
   "source": [
    "<a name=\"05_yolo\"></a>\n",
    "# 5.1 YOLO\n",
    "The YOLO, or \"You Only Look Once\", network employs a single convolutional network that simultaneously predicts multiple bounding boxes and class probabilities for those boxes.  DeepStream SDK includes support for YOLO in the `/home/dlinano/deepstream_sdk_v4.0.2_jetson/sources/objectDetector_Yolo` directory. Navigate there now using the JupyterLab file browser. Click the `labels.txt` file to view the ordered list of 80 objects that can be detected by this network!\n",
    "\n",
    "Before using it the first time, you'll need to run the setup scripts to download weight and configuration files."
   ]
  },
  {
   "cell_type": "markdown",
   "metadata": {},
   "source": [
    "<a name=\"05_setup_yolo\"></a>\n",
    "## 5.1.1 Set Up YOLO with DeepStream SDK\n",
    "Follow these steps to set up YOLO on your Jetson Nano.  Your Jetson Nano must be connected to the Internet.\n",
    "1. Navigate to `/home/dlinano/deepstream_sdk_v4.0.2_jetson/sources/objectDetector_Yolo/nvdsinfer_custom_impl_Yolo` with the JupyterLab file browser.\n",
    "2. Click on `Makefile` to edit.\n",
    "   * Set the CUDA version:  `CUDA_VER=10.0`\n",
    "   * Save and close the file.\n",
    "3. Execute the following cells to make and prebuild YOLO."
   ]
  },
  {
   "cell_type": "code",
   "execution_count": 1,
   "metadata": {},
   "outputs": [
    {
     "name": "stdout",
     "output_type": "stream",
     "text": [
      "/home/dlinano/deepstream_sdk_v4.0.2_jetson/sources/objectDetector_Yolo/nvdsinfer_custom_impl_Yolo\n",
      "g++ -c -o nvdsinfer_yolo_engine.o -Wall -std=c++11 -shared -fPIC -Wno-error=deprecated-declarations -I../../includes -I/usr/local/cuda-10.0/include nvdsinfer_yolo_engine.cpp\n",
      "g++ -c -o nvdsparsebbox_Yolo.o -Wall -std=c++11 -shared -fPIC -Wno-error=deprecated-declarations -I../../includes -I/usr/local/cuda-10.0/include nvdsparsebbox_Yolo.cpp\n",
      "g++ -c -o yoloPlugins.o -Wall -std=c++11 -shared -fPIC -Wno-error=deprecated-declarations -I../../includes -I/usr/local/cuda-10.0/include yoloPlugins.cpp\n",
      "g++ -c -o trt_utils.o -Wall -std=c++11 -shared -fPIC -Wno-error=deprecated-declarations -I../../includes -I/usr/local/cuda-10.0/include trt_utils.cpp\n",
      "\u001b[01m\u001b[Ktrt_utils.cpp:\u001b[m\u001b[K In function ‘\u001b[01m\u001b[Kvoid displayDimType(nvinfer1::Dims)\u001b[m\u001b[K’:\n",
      "\u001b[01m\u001b[Ktrt_utils.cpp:126:19:\u001b[m\u001b[K \u001b[01;35m\u001b[Kwarning: \u001b[m\u001b[K‘\u001b[01m\u001b[Knvinfer1::Dims::type\u001b[m\u001b[K’ is deprecated [\u001b[01;35m\u001b[K-Wdeprecated-declarations\u001b[m\u001b[K]\n",
      "         switch (d.\u001b[01;35m\u001b[Ktype\u001b[m\u001b[K[i])\n",
      "                   \u001b[01;35m\u001b[K^~~~\u001b[m\u001b[K\n",
      "In file included from \u001b[01m\u001b[K/usr/include/aarch64-linux-gnu/NvInferRuntime.h:59:0\u001b[m\u001b[K,\n",
      "                 from \u001b[01m\u001b[K/usr/include/aarch64-linux-gnu/NvInfer.h:53\u001b[m\u001b[K,\n",
      "                 from \u001b[01m\u001b[Ktrt_utils.h:35\u001b[m\u001b[K,\n",
      "                 from \u001b[01m\u001b[Ktrt_utils.cpp:23\u001b[m\u001b[K:\n",
      "\u001b[01m\u001b[K/usr/include/aarch64-linux-gnu/NvInferRuntimeCommon.h:211:47:\u001b[m\u001b[K \u001b[01;36m\u001b[Knote: \u001b[m\u001b[Kdeclared here\n",
      "     TRT_DEPRECATED DimensionType type[MAX_DIMS\u001b[01;36m\u001b[K]\u001b[m\u001b[K;  //!< The type of each dimension.\n",
      "                                               \u001b[01;36m\u001b[K^\u001b[m\u001b[K\n",
      "\u001b[01m\u001b[Ktrt_utils.cpp:126:19:\u001b[m\u001b[K \u001b[01;35m\u001b[Kwarning: \u001b[m\u001b[K‘\u001b[01m\u001b[Knvinfer1::Dims::type\u001b[m\u001b[K’ is deprecated [\u001b[01;35m\u001b[K-Wdeprecated-declarations\u001b[m\u001b[K]\n",
      "         switch (d.\u001b[01;35m\u001b[Ktype\u001b[m\u001b[K[i])\n",
      "                   \u001b[01;35m\u001b[K^~~~\u001b[m\u001b[K\n",
      "In file included from \u001b[01m\u001b[K/usr/include/aarch64-linux-gnu/NvInferRuntime.h:59:0\u001b[m\u001b[K,\n",
      "                 from \u001b[01m\u001b[K/usr/include/aarch64-linux-gnu/NvInfer.h:53\u001b[m\u001b[K,\n",
      "                 from \u001b[01m\u001b[Ktrt_utils.h:35\u001b[m\u001b[K,\n",
      "                 from \u001b[01m\u001b[Ktrt_utils.cpp:23\u001b[m\u001b[K:\n",
      "\u001b[01m\u001b[K/usr/include/aarch64-linux-gnu/NvInferRuntimeCommon.h:211:47:\u001b[m\u001b[K \u001b[01;36m\u001b[Knote: \u001b[m\u001b[Kdeclared here\n",
      "     TRT_DEPRECATED DimensionType type[MAX_DIMS\u001b[01;36m\u001b[K]\u001b[m\u001b[K;  //!< The type of each dimension.\n",
      "                                               \u001b[01;36m\u001b[K^\u001b[m\u001b[K\n",
      "\u001b[01m\u001b[Ktrt_utils.cpp:126:19:\u001b[m\u001b[K \u001b[01;35m\u001b[Kwarning: \u001b[m\u001b[K‘\u001b[01m\u001b[Knvinfer1::Dims::type\u001b[m\u001b[K’ is deprecated [\u001b[01;35m\u001b[K-Wdeprecated-declarations\u001b[m\u001b[K]\n",
      "         switch (d.\u001b[01;35m\u001b[Ktype\u001b[m\u001b[K[i])\n",
      "                   \u001b[01;35m\u001b[K^~~~\u001b[m\u001b[K\n",
      "In file included from \u001b[01m\u001b[K/usr/include/aarch64-linux-gnu/NvInferRuntime.h:59:0\u001b[m\u001b[K,\n",
      "                 from \u001b[01m\u001b[K/usr/include/aarch64-linux-gnu/NvInfer.h:53\u001b[m\u001b[K,\n",
      "                 from \u001b[01m\u001b[Ktrt_utils.h:35\u001b[m\u001b[K,\n",
      "                 from \u001b[01m\u001b[Ktrt_utils.cpp:23\u001b[m\u001b[K:\n",
      "\u001b[01m\u001b[K/usr/include/aarch64-linux-gnu/NvInferRuntimeCommon.h:211:47:\u001b[m\u001b[K \u001b[01;36m\u001b[Knote: \u001b[m\u001b[Kdeclared here\n",
      "     TRT_DEPRECATED DimensionType type[MAX_DIMS\u001b[01;36m\u001b[K]\u001b[m\u001b[K;  //!< The type of each dimension.\n",
      "                                               \u001b[01;36m\u001b[K^\u001b[m\u001b[K\n",
      "\u001b[01m\u001b[Ktrt_utils.cpp:\u001b[m\u001b[K In function ‘\u001b[01m\u001b[Knvinfer1::ILayer* netAddConvBNLeaky(int, std::map<std::__cxx11::basic_string<char>, std::__cxx11::basic_string<char> >&, std::vector<float>&, std::vector<nvinfer1::Weights>&, int&, int&, nvinfer1::ITensor*, nvinfer1::INetworkDefinition*)\u001b[m\u001b[K’:\n",
      "\u001b[01m\u001b[Ktrt_utils.cpp:357:59:\u001b[m\u001b[K \u001b[01;35m\u001b[Kwarning: \u001b[m\u001b[K‘\u001b[01m\u001b[Knvinfer1::IPluginV2* createLReLUPlugin(float)\u001b[m\u001b[K’ is deprecated [\u001b[01;35m\u001b[K-Wdeprecated-declarations\u001b[m\u001b[K]\n",
      "     nvinfer1::IPluginV2* leakyRELU = createLReLUPlugin(0.1\u001b[01;35m\u001b[K)\u001b[m\u001b[K;\n",
      "                                                           \u001b[01;35m\u001b[K^\u001b[m\u001b[K\n",
      "In file included from \u001b[01m\u001b[Ktrt_utils.cpp:32:0\u001b[m\u001b[K:\n",
      "\u001b[01m\u001b[K/usr/include/aarch64-linux-gnu/NvInferPlugin.h:267:41:\u001b[m\u001b[K \u001b[01;36m\u001b[Knote: \u001b[m\u001b[Kdeclared here\n",
      " TRT_DEPRECATED_API nvinfer1::IPluginV2* \u001b[01;36m\u001b[KcreateLReLUPlugin\u001b[m\u001b[K(float negSlope);\n",
      "                                         \u001b[01;36m\u001b[K^~~~~~~~~~~~~~~~~\u001b[m\u001b[K\n",
      "g++ -c -o yolo.o -Wall -std=c++11 -shared -fPIC -Wno-error=deprecated-declarations -I../../includes -I/usr/local/cuda-10.0/include yolo.cpp\n",
      "\u001b[01m\u001b[Kyolo.cpp:\u001b[m\u001b[K In member function ‘\u001b[01m\u001b[Knvinfer1::ICudaEngine* Yolo::createEngine()\u001b[m\u001b[K’:\n",
      "\u001b[01m\u001b[Kyolo.cpp:64:73:\u001b[m\u001b[K \u001b[01;35m\u001b[Kwarning: \u001b[m\u001b[K‘\u001b[01m\u001b[Kvirtual nvinfer1::ICudaEngine* nvinfer1::IBuilder::buildCudaEngine(nvinfer1::INetworkDefinition&)\u001b[m\u001b[K’ is deprecated [\u001b[01;35m\u001b[K-Wdeprecated-declarations\u001b[m\u001b[K]\n",
      "     nvinfer1::ICudaEngine * engine = m_Builder->buildCudaEngine(*network\u001b[01;35m\u001b[K)\u001b[m\u001b[K;\n",
      "                                                                         \u001b[01;35m\u001b[K^\u001b[m\u001b[K\n",
      "In file included from \u001b[01m\u001b[Ktrt_utils.h:35:0\u001b[m\u001b[K,\n",
      "                 from \u001b[01m\u001b[Kyolo.h:26\u001b[m\u001b[K,\n",
      "                 from \u001b[01m\u001b[Kyolo.cpp:23\u001b[m\u001b[K:\n",
      "\u001b[01m\u001b[K/usr/include/aarch64-linux-gnu/NvInfer.h:5566:51:\u001b[m\u001b[K \u001b[01;36m\u001b[Knote: \u001b[m\u001b[Kdeclared here\n",
      "     TRT_DEPRECATED virtual nvinfer1::ICudaEngine* \u001b[01;36m\u001b[KbuildCudaEngine\u001b[m\u001b[K(\n",
      "                                                   \u001b[01;36m\u001b[K^~~~~~~~~~~~~~~\u001b[m\u001b[K\n",
      "\u001b[01m\u001b[Kyolo.cpp:\u001b[m\u001b[K In member function ‘\u001b[01m\u001b[Knvinfer1::INetworkDefinition* Yolo::createYoloNetwork(std::vector<float>&, std::vector<nvinfer1::Weights>&)\u001b[m\u001b[K’:\n",
      "\u001b[01m\u001b[Kyolo.cpp:81:71:\u001b[m\u001b[K \u001b[01;35m\u001b[Kwarning: \u001b[m\u001b[K‘\u001b[01m\u001b[Kvirtual nvinfer1::INetworkDefinition* nvinfer1::IBuilder::createNetwork()\u001b[m\u001b[K’ is deprecated [\u001b[01;35m\u001b[K-Wdeprecated-declarations\u001b[m\u001b[K]\n",
      "     nvinfer1::INetworkDefinition * network = m_Builder->createNetwork(\u001b[01;35m\u001b[K)\u001b[m\u001b[K;\n",
      "                                                                       \u001b[01;35m\u001b[K^\u001b[m\u001b[K\n",
      "In file included from \u001b[01m\u001b[Ktrt_utils.h:35:0\u001b[m\u001b[K,\n",
      "                 from \u001b[01m\u001b[Kyolo.h:26\u001b[m\u001b[K,\n",
      "                 from \u001b[01m\u001b[Kyolo.cpp:23\u001b[m\u001b[K:\n",
      "\u001b[01m\u001b[K/usr/include/aarch64-linux-gnu/NvInfer.h:5431:58:\u001b[m\u001b[K \u001b[01;36m\u001b[Knote: \u001b[m\u001b[Kdeclared here\n",
      "     TRT_DEPRECATED virtual nvinfer1::INetworkDefinition* \u001b[01;36m\u001b[KcreateNetwork\u001b[m\u001b[K() TRTNOEXCEPT = 0;\n",
      "                                                          \u001b[01;36m\u001b[K^~~~~~~~~~~~~\u001b[m\u001b[K\n",
      "\u001b[01m\u001b[Kyolo.cpp:112:81:\u001b[m\u001b[K \u001b[01;35m\u001b[Kwarning: \u001b[m\u001b[K‘\u001b[01m\u001b[Kvirtual void nvinfer1::INetworkDefinition::setPoolingOutputDimensionsFormula(nvinfer1::IOutputDimensionsFormula*)\u001b[m\u001b[K’ is deprecated [\u001b[01;35m\u001b[K-Wdeprecated-declarations\u001b[m\u001b[K]\n",
      "  network->setPoolingOutputDimensionsFormula(m_TinyMaxpoolPaddingFormula.get()\u001b[01;35m\u001b[K)\u001b[m\u001b[K;\n",
      "                                                                              \u001b[01;35m\u001b[K^\u001b[m\u001b[K\n",
      "In file included from \u001b[01m\u001b[Ktrt_utils.h:35:0\u001b[m\u001b[K,\n",
      "                 from \u001b[01m\u001b[Kyolo.h:26\u001b[m\u001b[K,\n",
      "                 from \u001b[01m\u001b[Kyolo.cpp:23\u001b[m\u001b[K:\n",
      "\u001b[01m\u001b[K/usr/include/aarch64-linux-gnu/NvInfer.h:4229:33:\u001b[m\u001b[K \u001b[01;36m\u001b[Knote: \u001b[m\u001b[Kdeclared here\n",
      "     TRT_DEPRECATED virtual void \u001b[01;36m\u001b[KsetPoolingOutputDimensionsFormula\u001b[m\u001b[K(IOutputDimensionsFormula* formula) TRTNOEXCEPT = 0;\n",
      "                                 \u001b[01;36m\u001b[K^~~~~~~~~~~~~~~~~~~~~~~~~~~~~~~~~\u001b[m\u001b[K\n",
      "\u001b[01m\u001b[Kyolo.cpp:216:48:\u001b[m\u001b[K \u001b[01;35m\u001b[Kwarning: \u001b[m\u001b[K‘\u001b[01m\u001b[KRegionParameters\u001b[m\u001b[K’ is deprecated [\u001b[01;35m\u001b[K-Wdeprecated-declarations\u001b[m\u001b[K]\n",
      "             nvinfer1::plugin::RegionParameters \u001b[01;35m\u001b[KRegionParameters\u001b[m\u001b[K{\n",
      "                                                \u001b[01;35m\u001b[K^~~~~~~~~~~~~~~~\u001b[m\u001b[K\n",
      "In file included from \u001b[01m\u001b[K/usr/include/aarch64-linux-gnu/NvInferPlugin.h:54:0\u001b[m\u001b[K,\n",
      "                 from \u001b[01m\u001b[KyoloPlugins.h:32\u001b[m\u001b[K,\n",
      "                 from \u001b[01m\u001b[Kyolo.cpp:24\u001b[m\u001b[K:\n",
      "\u001b[01m\u001b[K/usr/include/aarch64-linux-gnu/NvInferPluginUtils.h:250:23:\u001b[m\u001b[K \u001b[01;36m\u001b[Knote: \u001b[m\u001b[Kdeclared here\n",
      " struct TRT_DEPRECATED \u001b[01;36m\u001b[KRegionParameters\u001b[m\u001b[K\n",
      "                       \u001b[01;36m\u001b[K^~~~~~~~~~~~~~~~\u001b[m\u001b[K\n",
      "\u001b[01m\u001b[Kyolo.cpp:361:70:\u001b[m\u001b[K \u001b[01;35m\u001b[Kwarning: \u001b[m\u001b[K‘\u001b[01m\u001b[Kvirtual bool nvinfer1::IBuilder::canRunOnDLA(const nvinfer1::ILayer*) const\u001b[m\u001b[K’ is deprecated [\u001b[01;35m\u001b[K-Wdeprecated-declarations\u001b[m\u001b[K]\n",
      "         if (m_DeviceType == \"kDLA\" && m_Builder->canRunOnDLA(curLayer\u001b[01;35m\u001b[K)\u001b[m\u001b[K)\n",
      "                                                                      \u001b[01;35m\u001b[K^\u001b[m\u001b[K\n",
      "In file included from \u001b[01m\u001b[Ktrt_utils.h:35:0\u001b[m\u001b[K,\n",
      "                 from \u001b[01m\u001b[Kyolo.h:26\u001b[m\u001b[K,\n",
      "                 from \u001b[01m\u001b[Kyolo.cpp:23\u001b[m\u001b[K:\n",
      "\u001b[01m\u001b[K/usr/include/aarch64-linux-gnu/NvInfer.h:5657:33:\u001b[m\u001b[K \u001b[01;36m\u001b[Knote: \u001b[m\u001b[Kdeclared here\n",
      "     TRT_DEPRECATED virtual bool \u001b[01;36m\u001b[KcanRunOnDLA\u001b[m\u001b[K(const ILayer* layer) const TRTNOEXCEPT = 0;\n",
      "                                 \u001b[01;36m\u001b[K^~~~~~~~~~~\u001b[m\u001b[K\n",
      "\u001b[01m\u001b[Kyolo.cpp:363:74:\u001b[m\u001b[K \u001b[01;35m\u001b[Kwarning: \u001b[m\u001b[K‘\u001b[01m\u001b[Kvirtual void nvinfer1::IBuilder::setDeviceType(nvinfer1::ILayer*, nvinfer1::DeviceType)\u001b[m\u001b[K’ is deprecated [\u001b[01;35m\u001b[K-Wdeprecated-declarations\u001b[m\u001b[K]\n",
      "             m_Builder->setDeviceType(curLayer, nvinfer1::DeviceType::kDLA\u001b[01;35m\u001b[K)\u001b[m\u001b[K;\n",
      "                                                                          \u001b[01;35m\u001b[K^\u001b[m\u001b[K\n",
      "In file included from \u001b[01m\u001b[Ktrt_utils.h:35:0\u001b[m\u001b[K,\n",
      "                 from \u001b[01m\u001b[Kyolo.h:26\u001b[m\u001b[K,\n",
      "                 from \u001b[01m\u001b[Kyolo.cpp:23\u001b[m\u001b[K:\n",
      "\u001b[01m\u001b[K/usr/include/aarch64-linux-gnu/NvInfer.h:5625:33:\u001b[m\u001b[K \u001b[01;36m\u001b[Knote: \u001b[m\u001b[Kdeclared here\n",
      "     TRT_DEPRECATED virtual void \u001b[01;36m\u001b[KsetDeviceType\u001b[m\u001b[K(ILayer* layer, DeviceType deviceType) TRTNOEXCEPT = 0;\n",
      "                                 \u001b[01;36m\u001b[K^~~~~~~~~~~~~\u001b[m\u001b[K\n",
      "/usr/local/cuda-10.0/bin/nvcc -c -o kernels.o --compiler-options '-fPIC' kernels.cu\n",
      "g++ -o libnvdsinfer_custom_impl_Yolo.so  nvdsinfer_yolo_engine.o nvdsparsebbox_Yolo.o yoloPlugins.o trt_utils.o yolo.o kernels.o -shared -Wl,--start-group -lnvinfer_plugin -lnvinfer -lnvparsers -L/usr/local/cuda-10.0/lib64 -lcudart -lcublas -lstdc++fs -Wl,--end-group\n"
     ]
    }
   ],
   "source": [
    "%cd /home/dlinano/deepstream_sdk_v4.0.2_jetson/sources/objectDetector_Yolo/nvdsinfer_custom_impl_Yolo/\n",
    "!make"
   ]
  },
  {
   "cell_type": "code",
   "execution_count": 2,
   "metadata": {},
   "outputs": [
    {
     "name": "stdout",
     "output_type": "stream",
     "text": [
      "/home/dlinano/deepstream_sdk_v4.0.2_jetson/sources/objectDetector_Yolo\n",
      "Downloading yolov2 config and weights files ... \n",
      "yolov2.cfg          100%[===================>]   2.66K  --.-KB/s    in 0.001s  \n",
      "yolov2.weights      100%[===================>] 194.49M   114KB/s    in 27m 17s \n",
      "Downloading yolov2-tiny config and weights files ... \n",
      "yolov2-tiny.cfg     100%[===================>]   1.45K  --.-KB/s    in 0.001s  \n",
      "yolov2-tiny.weights 100%[===================>]  42.87M   119KB/s    in 6m 27s  \n",
      "Downloading yolov3 config and weights files ... \n",
      "yolov3.cfg          100%[===================>]   8.15K  --.-KB/s    in 0s      \n",
      "yolov3.weights      100%[===================>] 236.52M   834KB/s    in 26m 37s \n",
      "Downloading yolov3-tiny config and weights files ... \n",
      "yolov3-tiny.cfg     100%[===================>]   1.87K  --.-KB/s    in 0.001s  \n",
      "yolov3-tiny.weights 100%[===================>]  33.79M   647KB/s    in 1m 40s  \n"
     ]
    }
   ],
   "source": [
    "%cd /home/dlinano/deepstream_sdk_v4.0.2_jetson/sources/objectDetector_Yolo/\n",
    "!./prebuild.sh"
   ]
  },
  {
   "cell_type": "markdown",
   "metadata": {},
   "source": [
    "<a name=\"05_ex_yolo\"></a>\n",
    "## 5.1.2 Exercise: Build and Run a YOLO Application\n",
    "Build and run the following sample application to see YOLO in action.  After running the following cells, deepstream will save the result to `/home/dlinano/out.mp4`.  Download `out.mp4` by right clicking it in JupyterLab file browser and select \"Download\". Then play it on your machine."
   ]
  },
  {
   "cell_type": "code",
   "execution_count": 3,
   "metadata": {},
   "outputs": [
    {
     "name": "stdout",
     "output_type": "stream",
     "text": [
      "/home/dlinano/deepstream_sdk_v4.0.2_jetson/sources/apps/dli_apps/deepstream-test3-mp4_out-yolo\n",
      "rm -rf deepstream_test3_app.o deepstream-test3-app\n",
      "cc -c -o deepstream_test3_app.o -DPLATFORM_TEGRA -I../../../includes `pkg-config --cflags gstreamer-1.0` deepstream_test3_app.c\n",
      "cc -o deepstream-test3-app deepstream_test3_app.o `pkg-config --libs gstreamer-1.0` -L/opt/nvidia/deepstream/deepstream-4.0/lib/ -lnvdsgst_meta -lnvds_meta -lnvdsgst_helper -lm -lgstrtspserver-1.0 -Wl,-rpath,/opt/nvidia/deepstream/deepstream-4.0/lib/\n"
     ]
    }
   ],
   "source": [
    "%cd /home/dlinano/deepstream_sdk_v4.0.2_jetson/sources/apps/dli_apps/deepstream-test3-mp4_out-yolo/\n",
    "!make clean\n",
    "!make"
   ]
  },
  {
   "cell_type": "code",
   "execution_count": 4,
   "metadata": {},
   "outputs": [
    {
     "name": "stdout",
     "output_type": "stream",
     "text": [
      "/home/dlinano/deepstream_sdk_v4.0.2_jetson/sources/apps/dli_apps/deepstream-test3-mp4_out-yolo\n",
      "\n",
      " *** DeepStream: Launched RTSP Streaming at rtsp://localhost:8554/ds-test ***\n",
      "\n",
      "Now playing: file:///home/dlinano/deepstream_sdk_v4.0.2_jetson/samples/streams/sample_720p.mp4,\n",
      "Opening in BLOCKING MODE \n",
      "Creating LL OSD context new\n",
      "0:00:01.793875516 \u001b[333m11780\u001b[00m   0x5580f47930 \u001b[33;01mWARN   \u001b[00m \u001b[00m             nvinfer gstnvinfer.cpp:515:gst_nvinfer_logger:<primary-nvinference-engine>\u001b[00m NvDsInferContext[UID 1]:useEngineFile(): Failed to read from model engine file\n",
      "0:00:01.793969060 \u001b[333m11780\u001b[00m   0x5580f47930 \u001b[36mINFO   \u001b[00m \u001b[00m             nvinfer gstnvinfer.cpp:519:gst_nvinfer_logger:<primary-nvinference-engine>\u001b[00m NvDsInferContext[UID 1]:initialize(): Trying to create engine from model files\n",
      "Loading pre-trained weights...\n",
      "Loading complete!\n",
      "Total Number of weights read : 8858734\n",
      "      layer               inp_size            out_size       weightPtr\n",
      "(1)   conv-bn-leaky     3 x 416 x 416      16 x 416 x 416    496   \n",
      "(2)   maxpool          16 x 416 x 416      16 x 208 x 208    496   \n",
      "(3)   conv-bn-leaky    16 x 208 x 208      32 x 208 x 208    5232  \n",
      "(4)   maxpool          32 x 208 x 208      32 x 104 x 104    5232  \n",
      "(5)   conv-bn-leaky    32 x 104 x 104      64 x 104 x 104    23920 \n",
      "(6)   maxpool          64 x 104 x 104      64 x  52 x  52    23920 \n",
      "(7)   conv-bn-leaky    64 x  52 x  52     128 x  52 x  52    98160 \n",
      "(8)   maxpool         128 x  52 x  52     128 x  26 x  26    98160 \n",
      "(9)   conv-bn-leaky   128 x  26 x  26     256 x  26 x  26    394096\n",
      "(10)  maxpool         256 x  26 x  26     256 x  13 x  13    394096\n",
      "(11)  conv-bn-leaky   256 x  13 x  13     512 x  13 x  13    1575792\n",
      "(12)  maxpool         512 x  13 x  13     512 x  13 x  13    1575792\n",
      "(13)  conv-bn-leaky   512 x  13 x  13    1024 x  13 x  13    6298480\n",
      "(14)  conv-bn-leaky  1024 x  13 x  13     256 x  13 x  13    6561648\n",
      "(15)  conv-bn-leaky   256 x  13 x  13     512 x  13 x  13    7743344\n",
      "(16)  conv-linear     512 x  13 x  13     255 x  13 x  13    7874159\n",
      "(17)  yolo            255 x  13 x  13     255 x  13 x  13    7874159\n",
      "(18)  route                  -            256 x  13 x  13    7874159\n",
      "(19)  conv-bn-leaky   256 x  13 x  13     128 x  13 x  13    7907439\n",
      "(20)  upsample        128 x  13 x  13     128 x  26 x  26        - \n",
      "(21)  route                  -            384 x  26 x  26    7907439\n",
      "(22)  conv-bn-leaky   384 x  26 x  26     256 x  26 x  26    8793199\n",
      "(23)  conv-linear     256 x  26 x  26     255 x  26 x  26    8858734\n",
      "(24)  yolo            255 x  26 x  26     255 x  26 x  26    8858734\n",
      "Output blob names :\n",
      "yolo_17\n",
      "yolo_24\n",
      "Total number of layers: 50\n",
      "Total number of layers on DLA: 0\n",
      "Building the TensorRT Engine...\n",
      "Building complete!\n",
      "0:01:15.050552204 \u001b[333m11780\u001b[00m   0x5580f47930 \u001b[36mINFO   \u001b[00m \u001b[00m             nvinfer gstnvinfer.cpp:519:gst_nvinfer_logger:<primary-nvinference-engine>\u001b[00m NvDsInferContext[UID 1]:generateTRTModel(): Storing the serialized cuda engine to file at /home/dlinano/deepstream_sdk_v4.0.2_jetson/sources/apps/dli_apps/deepstream-test3-mp4_out-yolo/model_b1_fp32.engine\n",
      "Deserialize yoloLayerV3 plugin: yolo_17\n",
      "Deserialize yoloLayerV3 plugin: yolo_24\n",
      "Decodebin child added: source\n",
      "Decodebin child added: decodebin0\n",
      "Running...\n",
      "Decodebin child added: qtdemux0\n",
      "Decodebin child added: multiqueue0\n",
      "Decodebin child added: h264parse0\n",
      "Decodebin child added: capsfilter0\n",
      "Decodebin child added: aacparse0\n",
      "Decodebin child added: avdec_aac0\n",
      "Decodebin child added: nvv4l2decoder0\n",
      "Seting bufapi_version\n",
      "Opening in BLOCKING MODE \n",
      "NvMMLiteOpen : Block : BlockType = 261 \n",
      "NVMEDIA: Reading vendor.tegra.display-size : status: 6 \n",
      "NvMMLiteBlockCreate : Block : BlockType = 261 \n",
      "In cb_newpad\n",
      "In cb_newpad\n",
      "Creating LL OSD context new\n",
      "NvMMLiteOpen : Block : BlockType = 4 \n",
      "===== NVMEDIA: NVENC =====\n",
      "NvMMLiteBlockCreate : Block : BlockType = 4 \n",
      "H264: Profile = 66, Level = 0 \n",
      "End of stream\n",
      "Returned, stopping playback\n",
      "Deleting pipeline\n"
     ]
    }
   ],
   "source": [
    "%cd /home/dlinano/deepstream_sdk_v4.0.2_jetson/sources/apps/dli_apps/deepstream-test3-mp4_out-yolo/\n",
    "!./deepstream-test3-app \\\n",
    "file:///home/dlinano/deepstream_sdk_v4.0.2_jetson/samples/streams/sample_720p.mp4"
   ]
  },
  {
   "cell_type": "markdown",
   "metadata": {},
   "source": [
    "<a name=\"05_ex_your_video\"></a>\n",
    "## 5.1.3 Exercise: Annotate Your Own Video with YOLO\n",
    "Since the sample file, `sample_720p.mp4` has mainly cars and people in the scene, you won't see all YOLO has to offer with the 80 objects it can detect.  Try annotating your own video instead of using the provided sample:\n",
    "\n",
    "1. Import your own video file: drag-and-drop it from your machine to JupyterLab file browser.\n",
    "2. Run the following cell with the input path of your imported file. \n",
    "3. The result will be saved to `/home/dlinano/out.mp4` as before."
   ]
  },
  {
   "cell_type": "code",
   "execution_count": 8,
   "metadata": {},
   "outputs": [
    {
     "name": "stdout",
     "output_type": "stream",
     "text": [
      "/home/dlinano/deepstream_sdk_v4.0.2_jetson/sources/apps/dli_apps/deepstream-test3-mp4_out-yolo\n",
      "\n",
      " *** DeepStream: Launched RTSP Streaming at rtsp://localhost:8554/ds-test ***\n",
      "\n",
      "Now playing: file:///home/dlinano/personal/Terminator.mp4,\n",
      "Opening in BLOCKING MODE \n",
      "Creating LL OSD context new\n",
      "Deserialize yoloLayerV3 plugin: yolo_17\n",
      "Deserialize yoloLayerV3 plugin: yolo_24\n",
      "Decodebin child added: source\n",
      "Decodebin child added: decodebin0\n",
      "Running...\n",
      "Decodebin child added: qtdemux0\n",
      "Decodebin child added: multiqueue0\n",
      "Decodebin child added: aacparse0\n",
      "Decodebin child added: avdec_aac0\n",
      "Decodebin child added: h264parse0\n",
      "Decodebin child added: capsfilter0\n",
      "Decodebin child added: nvv4l2decoder0\n",
      "Seting bufapi_version\n",
      "Opening in BLOCKING MODE \n",
      "NvMMLiteOpen : Block : BlockType = 261 \n",
      "NVMEDIA: Reading vendor.tegra.display-size : status: 6 \n",
      "NvMMLiteBlockCreate : Block : BlockType = 261 \n",
      "In cb_newpad\n",
      "In cb_newpad\n",
      "Creating LL OSD context new\n",
      "NvMMLiteOpen : Block : BlockType = 4 \n",
      "===== NVMEDIA: NVENC =====\n",
      "NvMMLiteBlockCreate : Block : BlockType = 4 \n",
      "H264: Profile = 66, Level = 0 \n",
      "End of stream\n",
      "Returned, stopping playback\n",
      "Deleting pipeline\n"
     ]
    }
   ],
   "source": [
    "%cd /home/dlinano/deepstream_sdk_v4.0.2_jetson/sources/apps/dli_apps/deepstream-test3-mp4_out-yolo/\n",
    "!./deepstream-test3-app \\\n",
    "file:///home/dlinano/personal/Terminator.mp4"
   ]
  },
  {
   "cell_type": "markdown",
   "metadata": {},
   "source": [
    "<a name=\"05_faster_rcnn\"></a>\n",
    "# 5.2 Faster-RCNN\n",
    "\n",
    "This sample uses TensorRT plugins, performs inference, and implements a fused custom layer for end-to-end inferencing of a Faster R-CNN model. Specifically, this sample demonstrates the implementation of a Faster R-CNN network in TensorRT, performs a quick performance test in TensorRT, implements a fused custom layer, and constructs the basis for further optimization.\n",
    "\n",
    "Navigate to `/home/dlinano/deepstream_sdk_v4.0.2_jetson/sources/objectDetector_FasterRCNN` using the JupyterLab file browser. Click the README for detailed instructions on DeepStream pre-requisites and usage.\n",
    "    "
   ]
  },
  {
   "cell_type": "markdown",
   "metadata": {},
   "source": [
    "<a name=\"05_ssd\"></a>\n",
    "# 5.3 SSD\n",
    "    \n",
    "The SSD, or \"Single Shot Detector\", network performs the task of object detection and localization in a single forward pass of the network. This network is built using the VGG network as a backbone. Unlike Faster R-CNN, SSD completely eliminates proposal generation and subsequent pixel or feature resampling stages.  It encapsulates all computation in a single network. This makes SSD straightforward to integrate into systems that require a detection component. \n",
    "\n",
    "Navigate to `/home/dlinano/deepstream_sdk_v4.0.2_jetson/sources/objectDetector_SSD` using the JupyterLab file browser. Click the README for detailed instructions on DeepStream pre-requisites and usage."
   ]
  },
  {
   "cell_type": "markdown",
   "metadata": {},
   "source": [
    "<h2 style=\"color:green;\">Congratulations!</h2>\n",
    "\n",
    "You ran a DeepStream app using a different network. <br>\n",
    "Move on to [6.0 Using a Live Stream (Optional)](./06_DSWebcam.ipynb)."
   ]
  },
  {
   "cell_type": "markdown",
   "metadata": {},
   "source": [
    "<center><img src=\"images/DLI Header.png\" alt=\"Header\" width=\"400\"></center>"
   ]
  }
 ],
 "metadata": {
  "kernelspec": {
   "display_name": "Python 3",
   "language": "python",
   "name": "python3"
  },
  "language_info": {
   "codemirror_mode": {
    "name": "ipython",
    "version": 3
   },
   "file_extension": ".py",
   "mimetype": "text/x-python",
   "name": "python",
   "nbconvert_exporter": "python",
   "pygments_lexer": "ipython3",
   "version": "3.6.9"
  }
 },
 "nbformat": 4,
 "nbformat_minor": 4
}
